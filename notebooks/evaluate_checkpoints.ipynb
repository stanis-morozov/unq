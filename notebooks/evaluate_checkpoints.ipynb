{
 "cells": [
  {
   "cell_type": "code",
   "execution_count": 1,
   "metadata": {},
   "outputs": [
    {
     "name": "stdout",
     "output_type": "stream",
     "text": [
      "env: CUDA_VISIBLE_DEVICES=0\n"
     ]
    }
   ],
   "source": [
    "%env CUDA_VISIBLE_DEVICES=0\n",
    "%load_ext autoreload\n",
    "%autoreload 2\n",
    "import sys\n",
    "sys.path.insert(0, '..')\n",
    "\n",
    "import faiss\n",
    "import lib\n",
    "import numpy as np\n",
    "from functools import partial\n",
    "import torch\n",
    "import os\n",
    "\n",
    "device_ids=list(range(torch.cuda.device_count()))"
   ]
  },
  {
   "cell_type": "markdown",
   "metadata": {},
   "source": [
    "### Description\n",
    "\n",
    "This notebook downloads and evaluates 4 checkpoints of UNQ model trained on BIGANN1M and DEEP1M datasets with 8- and 16-byte code sizes. You can also use this code to verify the corrrectness of your setup. If all library versions & hardware are set up properly, the code below should produce the exact same outputs as you can see below. These are also the numbers we report in Table 2 of our paper. "
   ]
  },
  {
   "cell_type": "code",
   "execution_count": 2,
   "metadata": {},
   "outputs": [
    {
     "name": "stdout",
     "output_type": "stream",
     "text": [
      "Evaluating checkpoint checkpoints/sift_8b/checkpoint_best.pth on dataset BIGANN1M\n",
      "Downloading https://www.dropbox.com/s/ycf12yqu5cw4opr/checkpoint_best.pth?dl=1 > checkpoints/sift_8b/checkpoint_best.pth\n"
     ]
    },
    {
     "name": "stderr",
     "output_type": "stream",
     "text": [
      "100%|██████████| 63152599/63152599 [00:01<00:00, 46457573.21it/s]\n"
     ]
    },
    {
     "name": "stdout",
     "output_type": "stream",
     "text": [
      "Downloading https://www.dropbox.com/s/zcnvsy7mlogj4g0/bigann_base1M.fvecs?dl=1 > ./data/BIGANN1M/bigann_base1M.fvecs\n"
     ]
    },
    {
     "name": "stderr",
     "output_type": "stream",
     "text": [
      "100%|██████████| 516000000/516000000 [00:09<00:00, 53227896.69it/s]\n"
     ]
    },
    {
     "name": "stdout",
     "output_type": "stream",
     "text": [
      "Downloading https://www.dropbox.com/s/dviygi2zhk57p9m/bigann_learn500k.fvecs?dl=1 > ./data/BIGANN1M/bigann_learn500k.fvecs\n"
     ]
    },
    {
     "name": "stderr",
     "output_type": "stream",
     "text": [
      "100%|██████████| 258000000/258000000 [00:04<00:00, 60326830.10it/s]\n"
     ]
    },
    {
     "name": "stdout",
     "output_type": "stream",
     "text": [
      "Downloading https://www.dropbox.com/s/is6anxwon6g5bpe/bigann_query10k.fvecs?dl=1 > ./data/BIGANN1M/bigann_query10k.fvecs\n"
     ]
    },
    {
     "name": "stderr",
     "output_type": "stream",
     "text": [
      "100%|██████████| 5160000/5160000 [00:00<00:00, 27784585.83it/s]\n"
     ]
    },
    {
     "name": "stdout",
     "output_type": "stream",
     "text": [
      "Recall@1  : 0.3458\n",
      "Recall@10 : 0.8282\n",
      "Recall@100: 0.9899\n",
      "Evaluating checkpoint checkpoints/sift_16b/checkpoint_best.pth on dataset BIGANN1M\n",
      "Downloading https://www.dropbox.com/s/y7aucbm5gwyow9r/checkpoint_best.pth?dl=1 > checkpoints/sift_16b/checkpoint_best.pth\n"
     ]
    },
    {
     "name": "stderr",
     "output_type": "stream",
     "text": [
      "100%|██████████| 94634547/94634547 [00:02<00:00, 42195598.15it/s]\n"
     ]
    },
    {
     "name": "stdout",
     "output_type": "stream",
     "text": [
      "Recall@1  : 0.5931\n",
      "Recall@10 : 0.9798\n",
      "Recall@100: 1.0\n",
      "Evaluating checkpoint checkpoints/deep_8b/checkpoint_best.pth on dataset DEEP1M\n",
      "Downloading https://www.dropbox.com/s/yvtm7y3f3412n9n/checkpoint_best.pth?dl=1 > checkpoints/deep_8b/checkpoint_best.pth\n"
     ]
    },
    {
     "name": "stderr",
     "output_type": "stream",
     "text": [
      "100%|██████████| 62365780/62365780 [00:03<00:00, 33500166.33it/s]\n"
     ]
    },
    {
     "name": "stdout",
     "output_type": "stream",
     "text": [
      "Downloading https://www.dropbox.com/s/e23sdc3twwn9syk/deep_base1M.fvecs?dl=1 > ./data/DEEP1M/deep_base1M.fvecs\n"
     ]
    },
    {
     "name": "stderr",
     "output_type": "stream",
     "text": [
      "100%|██████████| 388000000/388000000 [00:07<00:00, 53521585.16it/s]\n"
     ]
    },
    {
     "name": "stdout",
     "output_type": "stream",
     "text": [
      "Downloading https://www.dropbox.com/s/4i0c5o8jzvuloxy/deep_learn500k.fvecs?dl=1 > ./data/DEEP1M/deep_learn500k.fvecs\n"
     ]
    },
    {
     "name": "stderr",
     "output_type": "stream",
     "text": [
      "100%|██████████| 194000000/194000000 [00:04<00:00, 41919113.69it/s]\n"
     ]
    },
    {
     "name": "stdout",
     "output_type": "stream",
     "text": [
      "Downloading https://www.dropbox.com/s/5z087cxqh61n144/deep_query10k.fvecs?dl=1 > ./data/DEEP1M/deep_query10k.fvecs\n"
     ]
    },
    {
     "name": "stderr",
     "output_type": "stream",
     "text": [
      "100%|██████████| 3880000/3880000 [00:00<00:00, 5595664.66it/s]\n"
     ]
    },
    {
     "name": "stdout",
     "output_type": "stream",
     "text": [
      "Recall@1  : 0.2669\n",
      "Recall@10 : 0.7259\n",
      "Recall@100: 0.9734\n",
      "Evaluating checkpoint checkpoints/deep_16b/checkpoint_best.pth on dataset DEEP1M\n",
      "Downloading https://www.dropbox.com/s/a0v988tb6i00qir/checkpoint_best.pth?dl=1 > checkpoints/deep_16b/checkpoint_best.pth\n"
     ]
    },
    {
     "name": "stderr",
     "output_type": "stream",
     "text": [
      "100%|██████████| 93847732/93847732 [00:02<00:00, 44430298.26it/s]\n"
     ]
    },
    {
     "name": "stdout",
     "output_type": "stream",
     "text": [
      "Recall@1  : 0.479\n",
      "Recall@10 : 0.9305\n",
      "Recall@100: 0.998\n"
     ]
    }
   ],
   "source": [
    "for dataset_name, checkpoint_path, link in [\n",
    "    ('BIGANN1M', 'checkpoints/sift_8b/checkpoint_best.pth', 'https://www.dropbox.com/s/ycf12yqu5cw4opr/checkpoint_best.pth?dl=1'),\n",
    "    ('BIGANN1M', 'checkpoints/sift_16b/checkpoint_best.pth', 'https://www.dropbox.com/s/y7aucbm5gwyow9r/checkpoint_best.pth?dl=1'),\n",
    "    ('DEEP1M', 'checkpoints/deep_8b/checkpoint_best.pth', 'https://www.dropbox.com/s/yvtm7y3f3412n9n/checkpoint_best.pth?dl=1'),\n",
    "    ('DEEP1M', 'checkpoints/deep_16b/checkpoint_best.pth', 'https://www.dropbox.com/s/a0v988tb6i00qir/checkpoint_best.pth?dl=1')\n",
    "]:\n",
    "    print(\"Evaluating checkpoint {} on dataset {}\".format(checkpoint_path, dataset_name))\n",
    "    \n",
    "    if not os.path.exists(checkpoint_path):\n",
    "        os.makedirs(os.path.dirname(checkpoint_path), exist_ok=True)\n",
    "        lib.utils.download(link, checkpoint_path,\n",
    "                 chunk_size=4 * 1024 ** 2)\n",
    "    \n",
    "    if '8b' in checkpoint_path:\n",
    "        num_codebooks = 8\n",
    "    elif '16b' in checkpoint_path:\n",
    "        num_codebooks = 16\n",
    "    else:\n",
    "        raise ValueError(\"Unexpected number of bytes. Make sure you know what you're doing\")\n",
    "\n",
    "    dataset = lib.Dataset(dataset_name, normalize=True)\n",
    "    model = lib.UNQModel(input_dim=dataset.vector_dim, num_codebooks=num_codebooks).cuda()\n",
    "\n",
    "    trainer = lib.Trainer(\n",
    "        model=model, experiment_name='debug', device_ids=device_ids, loss_opts={},\n",
    "        LearnedSimilaritySearch=partial(lib.UNQSearch, model=model, rerank_k=500, batch_size=1000,\n",
    "                                        reorder_batch_size=250, device_ids=device_ids),\n",
    "        NegativeSimilaritySearch=partial(lib.UNQSearch, model=model, rerank_k=1, batch_size=1000,\n",
    "                                        reorder_batch_size=250, device_ids=device_ids),\n",
    "    )\n",
    "    trainer.load_checkpoint(path=checkpoint_path)\n",
    "    print(\"Recall@1  :\", trainer.evaluate_recall(dataset.test_vectors.cuda(), dataset.query_vectors.cuda(), k=1))\n",
    "    print(\"Recall@10 :\", trainer.evaluate_recall(dataset.test_vectors.cuda(), dataset.query_vectors.cuda(), k=10))\n",
    "    print(\"Recall@100:\", trainer.evaluate_recall(dataset.test_vectors.cuda(), dataset.query_vectors.cuda(), k=100))"
   ]
  },
  {
   "cell_type": "code",
   "execution_count": null,
   "metadata": {},
   "outputs": [],
   "source": []
  }
 ],
 "metadata": {
  "kernelspec": {
   "display_name": "Python 3",
   "language": "python",
   "name": "python3"
  },
  "language_info": {
   "codemirror_mode": {
    "name": "ipython",
    "version": 3
   },
   "file_extension": ".py",
   "mimetype": "text/x-python",
   "name": "python",
   "nbconvert_exporter": "python",
   "pygments_lexer": "ipython3",
   "version": "3.7.3"
  }
 },
 "nbformat": 4,
 "nbformat_minor": 2
}
